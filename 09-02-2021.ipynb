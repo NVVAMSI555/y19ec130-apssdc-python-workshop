{
 "cells": [
  {
   "cell_type": "markdown",
   "metadata": {},
   "source": [
    "# ('regular expressions')\n",
    "- sequence of characters that forms a pattern\n",
    "- ex are search patterns like aadhar,mobile number\n",
    "- to verify validation of data\n",
    "- \n"
   ]
  },
  {
   "cell_type": "code",
   "execution_count": 2,
   "metadata": {},
   "outputs": [],
   "source": [
    "import re"
   ]
  },
  {
   "cell_type": "code",
   "execution_count": 3,
   "metadata": {},
   "outputs": [
    {
     "data": {
      "text/plain": [
       "['A',\n",
       " 'ASCII',\n",
       " 'DEBUG',\n",
       " 'DOTALL',\n",
       " 'I',\n",
       " 'IGNORECASE',\n",
       " 'L',\n",
       " 'LOCALE',\n",
       " 'M',\n",
       " 'MULTILINE',\n",
       " 'Match',\n",
       " 'Pattern',\n",
       " 'RegexFlag',\n",
       " 'S',\n",
       " 'Scanner',\n",
       " 'T',\n",
       " 'TEMPLATE',\n",
       " 'U',\n",
       " 'UNICODE',\n",
       " 'VERBOSE',\n",
       " 'X',\n",
       " '_MAXCACHE',\n",
       " '__all__',\n",
       " '__builtins__',\n",
       " '__cached__',\n",
       " '__doc__',\n",
       " '__file__',\n",
       " '__loader__',\n",
       " '__name__',\n",
       " '__package__',\n",
       " '__spec__',\n",
       " '__version__',\n",
       " '_cache',\n",
       " '_compile',\n",
       " '_compile_repl',\n",
       " '_expand',\n",
       " '_locale',\n",
       " '_pickle',\n",
       " '_special_chars_map',\n",
       " '_subx',\n",
       " 'compile',\n",
       " 'copyreg',\n",
       " 'enum',\n",
       " 'error',\n",
       " 'escape',\n",
       " 'findall',\n",
       " 'finditer',\n",
       " 'fullmatch',\n",
       " 'functools',\n",
       " 'match',\n",
       " 'purge',\n",
       " 'search',\n",
       " 'split',\n",
       " 'sre_compile',\n",
       " 'sre_parse',\n",
       " 'sub',\n",
       " 'subn',\n",
       " 'template']"
      ]
     },
     "execution_count": 3,
     "metadata": {},
     "output_type": "execute_result"
    }
   ],
   "source": [
    "dir(re)"
   ]
  },
  {
   "cell_type": "code",
   "execution_count": 7,
   "metadata": {},
   "outputs": [
    {
     "name": "stdout",
     "output_type": "stream",
     "text": [
      "<re.Match object; span=(0, 2), match='AP'>\n"
     ]
    }
   ],
   "source": [
    "# match :re.match(pattern,string)\n",
    "import re\n",
    "a = re.match('AP','APPSSDC')\n",
    "print(a)"
   ]
  },
  {
   "cell_type": "code",
   "execution_count": 12,
   "metadata": {},
   "outputs": [
    {
     "data": {
      "text/plain": [
       "<re.Match object; span=(2, 4), match='PS'>"
      ]
     },
     "execution_count": 12,
     "metadata": {},
     "output_type": "execute_result"
    }
   ],
   "source": [
    "b = re.search('PS','APPSSDC')\n",
    "b"
   ]
  },
  {
   "cell_type": "code",
   "execution_count": 13,
   "metadata": {},
   "outputs": [
    {
     "data": {
      "text/plain": [
       "<re.Match object; span=(0, 3), match='RVR'>"
      ]
     },
     "execution_count": 13,
     "metadata": {},
     "output_type": "execute_result"
    }
   ],
   "source": [
    " c = re.match('RVR','RVRJC')\n",
    "c"
   ]
  },
  {
   "cell_type": "code",
   "execution_count": 15,
   "metadata": {},
   "outputs": [],
   "source": [
    " c = re.search('RR','RVRJC')\n",
    "c"
   ]
  },
  {
   "cell_type": "code",
   "execution_count": 16,
   "metadata": {},
   "outputs": [
    {
     "data": {
      "text/plain": [
       "NoneType"
      ]
     },
     "execution_count": 16,
     "metadata": {},
     "output_type": "execute_result"
    }
   ],
   "source": [
    "type(c)"
   ]
  },
  {
   "cell_type": "code",
   "execution_count": 18,
   "metadata": {},
   "outputs": [
    {
     "data": {
      "text/plain": [
       "['VR']"
      ]
     },
     "execution_count": 18,
     "metadata": {},
     "output_type": "execute_result"
    }
   ],
   "source": [
    " c = re.findall('VR','RVRJC')\n",
    "c"
   ]
  },
  {
   "cell_type": "code",
   "execution_count": 21,
   "metadata": {},
   "outputs": [],
   "source": [
    " c = re.fullmatch('RVR','RVRJC')\n",
    "c"
   ]
  },
  {
   "cell_type": "code",
   "execution_count": null,
   "metadata": {},
   "outputs": [],
   "source": [
    "SPECIAL CHARACTERS\n",
    "^ | Matches the expression to its right at the\n",
    "start of a string. It matches every such\n",
    "instance before each \\n in the string.\n",
    "$ | Matches the expression to its left at the\n",
    "end of a string. It matches every such\n",
    "instance before each \\n in the string.\n",
    ". | Matches any character except line\n",
    "terminators like \\n.\n",
    "\\ | Escapes special characters or denotes\n",
    "character classes.\n",
    "A|B | Matches expression A or B. If A is\n",
    "matched first, B is left untried.\n",
    "+ | Greedily matches the expression to its left 1\n",
    "or more times.\n",
    "* | Greedily matches the expression to its left\n",
    "0 or more times.\n",
    "? | Greedily matches the expression to its left\n",
    "0 or 1 times. But if ? is added to qualifiers\n",
    "(+, *, and ? itself) it will perform matches in\n",
    "a non-greedy manner.\n",
    "{m} | Matches the expression to its left m\n",
    "times, and not less.\n",
    "{m,n} | Matches the expression to its left m to\n",
    "n times, and not less.\n",
    "{m,n}? | Matches the expression to its left m\n",
    "times, and ignores n. See ? above.\n",
    "CHARACTER CLASSES\n",
    "(A.K.A. SPECIAL SEQUENCES)\n",
    "\\w | Matches alphanumeric characters, which\n",
    "means a-z, A-Z, and 0-9. It also matches\n",
    "the underscore, _.\n",
    "\\d | Matches digits, which means 0-9.\n",
    "\\D | Matches any non-digits.\n",
    "\\s | Matches whitespace characters, which\n",
    "include the \\t, \\n, \\r, and space characters.\n",
    "\\S | Matches non-whitespace characters.\n",
    "\\b | Matches the boundary (or empty string)\n",
    "at the start and end of a word, that is,\n",
    "between \\w and \\W.\n",
    "\\B | Matches where \\b does not, that is, the\n",
    "boundary of \\w characters.\n",
    "\\A | Matches the expression to its right at the\n",
    "absolute start of a string whether in single\n",
    "or multi-line mode.\n",
    "\\Z | Matches the expression to its left at the\n",
    "absolute end of a string whether in single\n",
    "or multi-line mode.\n",
    "SETS\n",
    "[ ] | Contains a set of characters to match.\n",
    "[amk] | Matches either a, m, or k. It does not\n",
    "match amk.\n",
    "[a-z] | Matches any alphabet from a to z.\n",
    "[a\\-z] | Matches a, -, or z. It matches -\n",
    "because \\ escapes it.\n",
    "[a-] | Matches a or -, because - is not being\n",
    "used to indicate a series of characters.\n",
    "[-a] | As above, matches a or -.\n",
    "[a-z0-9] | Matches characters from a to z\n",
    "and also from 0 to 9.\n",
    "[(+*)] | Special characters become literal\n",
    "inside a set, so this matches (, +, *, and ).\n",
    "[^ab5] | Adding ^ excludes any character in\n",
    "the set. Here, it matches characters that are\n",
    "not a, b, or 5.\n",
    "GROUPS\n",
    "( ) | Matches the expression inside the\n",
    "parentheses and groups it.\n",
    "(?) | Inside parentheses like this, ? acts as an\n",
    "extension notation. Its meaning depends on\n",
    "the character immediately to its right.\n",
    "(?PAB) | Matches the expression AB, and it\n",
    "can be accessed with the group name.\n",
    "(?aiLmsux) | Here, a, i, L, m, s, u, and x are\n",
    "flags:\n",
    "a— Matches ASCII only\n",
    "i— Ignore case\n",
    "L— Locale dependent\n",
    "m— Multi-line\n",
    "s— Matches all\n",
    "u— Matches unicode\n",
    "x— Verbose\n",
    "(?:A) | Matches the expression as represented\n",
    "by A, but unlike (?PAB), it cannot be\n",
    "retrieved afterwards.\n",
    "(?#...) | A comment. Contents are for us to\n",
    "read, not for matching.\n",
    "A(?=B) | Lookahead assertion. This matches\n",
    "the expression A only if it is followed by B.\n",
    "A(?!B) | Negative lookahead assertion. This\n",
    "matches the expression A only if it is not\n",
    "followed by B.\n",
    "(?<=B)A | Positive lookbehind assertion.\n",
    "This matches the expression A only if B\n",
    "is immediately to its left. This can only\n",
    "matched fixed length expressions.\n",
    "(?<!B)A | Negative lookbehind assertion.\n",
    "This matches the expression A only if B is\n",
    "not immediately to its left. This can only\n",
    "matched fixed length expressions.\n",
    "(?P=name) | Matches the expression matched\n",
    "by an earlier group named “name”.\n",
    "(...)\\1 | The number 1 corresponds to\n",
    "the first group to be matched. If we want\n",
    "to match more instances of the same\n",
    "expression, simply use its number instead of\n",
    "writing out the whole expression again. We\n",
    "can use from 1 up to 99 such groups and"
   ]
  },
  {
   "cell_type": "markdown",
   "metadata": {},
   "source": [
    "^     matches beginning of a line\n",
    "$     matches end of a line\n",
    ".     matches any character\n",
    "\\s    matches white space\n",
    "\\S    matches any non white space character\n",
    "*     repeats a character zero or more times\n",
    "*?    repeats a character zero or more times(non greedy)\n",
    "+     repeats a character one or more times\n",
    "+?    repeats a character one or more times((non greedy)\n",
    "(     indicates where string extraction starts\n",
    ")     indicates where string extraction starts\n"
   ]
  },
  {
   "cell_type": "code",
   "execution_count": 24,
   "metadata": {},
   "outputs": [
    {
     "data": {
      "text/plain": [
       "<re.Match object; span=(0, 13), match='RVR JC Guntur'>"
      ]
     },
     "execution_count": 24,
     "metadata": {},
     "output_type": "execute_result"
    }
   ],
   "source": [
    "a= 'RVR JC Guntur'\n",
    "res = re.search('^R.*r$',a)\n",
    "res"
   ]
  },
  {
   "cell_type": "code",
   "execution_count": 38,
   "metadata": {},
   "outputs": [
    {
     "data": {
      "text/plain": [
       "<re.Match object; span=(4, 9), match='quick'>"
      ]
     },
     "execution_count": 38,
     "metadata": {},
     "output_type": "execute_result"
    }
   ],
   "source": [
    "a = 'The quick brown fox jumps over the lazy dog'\n",
    "pattern = 'q...k'\n",
    "res = re.search(pattern,a)\n",
    "res"
   ]
  },
  {
   "cell_type": "code",
   "execution_count": 41,
   "metadata": {},
   "outputs": [
    {
     "data": {
      "text/plain": [
       "[]"
      ]
     },
     "execution_count": 41,
     "metadata": {},
     "output_type": "execute_result"
    }
   ],
   "source": [
    "a = 'The quick brown fox jumps over the lazy dog'\n",
    "res =re.findall('^q....',a)\n",
    "res"
   ]
  },
  {
   "cell_type": "code",
   "execution_count": 43,
   "metadata": {},
   "outputs": [
    {
     "data": {
      "text/plain": [
       "<re.Match object; span=(6, 7), match='E'>"
      ]
     },
     "execution_count": 43,
     "metadata": {},
     "output_type": "execute_result"
    }
   ],
   "source": [
    "a='RVRJCCE'\n",
    "res = re.search('E$',a)\n",
    "res"
   ]
  },
  {
   "cell_type": "code",
   "execution_count": 45,
   "metadata": {},
   "outputs": [
    {
     "name": "stdout",
     "output_type": "stream",
     "text": [
      "[' ', ' ', ' ', ' ']\n"
     ]
    }
   ],
   "source": [
    "a = \"RVR JC ECE PYTHON WORKSHOP\"\n",
    "res = re.findall('\\s',a)\n",
    "print(res)"
   ]
  },
  {
   "cell_type": "code",
   "execution_count": 47,
   "metadata": {},
   "outputs": [
    {
     "data": {
      "text/plain": [
       "<re.Match object; span=(0, 5), match='99999'>"
      ]
     },
     "execution_count": 47,
     "metadata": {},
     "output_type": "execute_result"
    }
   ],
   "source": [
    "\n",
    "a = '9999989899'\n",
    "res = re.search('9*',a)\n",
    "res"
   ]
  },
  {
   "cell_type": "code",
   "execution_count": 52,
   "metadata": {},
   "outputs": [],
   "source": [
    "li = ['Ramu','Raju','Avinash','Venkatesh','Gopi','Srinivas']\n",
    "pattern = '^v.h$'\n",
    "for i in li:\n",
    "    if re.search(pattern,i):\n",
    "        print(i)\n",
    "   "
   ]
  },
  {
   "cell_type": "code",
   "execution_count": 80,
   "metadata": {},
   "outputs": [
    {
     "name": "stdout",
     "output_type": "stream",
     "text": [
      "*\r\n",
      "**\r\n",
      "***\r\n",
      "****\r\n"
     ]
    }
   ],
   "source": [
    "\n",
    "   for j in range(0,4):\n",
    "        for i in range(0,j+1):\n",
    "            print('*',end=\"\")\n",
    "        print(\"\\r\")"
   ]
  },
  {
   "cell_type": "code",
   "execution_count": 68,
   "metadata": {},
   "outputs": [
    {
     "name": "stdout",
     "output_type": "stream",
     "text": [
      "* \r\n",
      "* * \r\n",
      "* * * \r\n",
      "* * * * \r\n",
      "* * * * * \r\n"
     ]
    }
   ],
   "source": [
    "def pypart(n):\n",
    "  \n",
    "    for i in range(0, n):\n",
    "     \n",
    "       \n",
    "        for j in range(0, i+1):\n",
    "         \n",
    "            \n",
    "            print(\"* \",end=\"\")\n",
    "      \n",
    "       \n",
    "        print(\"\\r\")\n",
    " \n",
    "\n",
    "n = 5\n",
    "pypart(n)"
   ]
  },
  {
   "cell_type": "code",
   "execution_count": 86,
   "metadata": {},
   "outputs": [
    {
     "name": "stdout",
     "output_type": "stream",
     "text": [
      "9948889707\n",
      "7993429932\n",
      "6301649932\n"
     ]
    }
   ],
   "source": [
    "li = ['9948889707','8075764249','7993429932','6301649932','5555558935']\n",
    "for i in li:\n",
    "    if re.findall('^[6,7,9]\\d{9}$',i):\n",
    "        print(i)\n"
   ]
  },
  {
   "cell_type": "code",
   "execution_count": null,
   "metadata": {},
   "outputs": [],
   "source": [
    "li = ['apssdc.13@gmail.com','apssdcrvr@apssdc.in','prasannaraj.m@apssdc.in','rvrjc123.123@gmail.com','raj#$%%^^@gmail.com','prasanna123@gmail.com']"
   ]
  }
 ],
 "metadata": {
  "kernelspec": {
   "display_name": "Python 3",
   "language": "python",
   "name": "python3"
  },
  "language_info": {
   "codemirror_mode": {
    "name": "ipython",
    "version": 3
   },
   "file_extension": ".py",
   "mimetype": "text/x-python",
   "name": "python",
   "nbconvert_exporter": "python",
   "pygments_lexer": "ipython3",
   "version": "3.7.4"
  }
 },
 "nbformat": 4,
 "nbformat_minor": 2
}
