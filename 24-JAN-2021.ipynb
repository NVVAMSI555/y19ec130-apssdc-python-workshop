{
 "cells": [
  {
   "cell_type": "code",
   "execution_count": 6,
   "metadata": {},
   "outputs": [
    {
     "name": "stdout",
     "output_type": "stream",
     "text": [
      "hello world\n"
     ]
    }
   ],
   "source": [
    "print('hello world')\n"
   ]
  },
  {
   "cell_type": "code",
   "execution_count": 5,
   "metadata": {},
   "outputs": [
    {
     "name": "stdout",
     "output_type": "stream",
     "text": [
      "8\n"
     ]
    }
   ],
   "source": [
    "a=3\n",
    "b=5\n",
    "sum=a+b\n",
    "print(sum\n",
    "     )"
   ]
  },
  {
   "cell_type": "code",
   "execution_count": 7,
   "metadata": {},
   "outputs": [
    {
     "name": "stdout",
     "output_type": "stream",
     "text": [
      "123\n",
      "vamsi\n",
      "<class 'float'>\n"
     ]
    }
   ],
   "source": [
    "print(123)\n",
    "print(\"vamsi\")\n",
    "print(type( 123.20)) \n"
   ]
  },
  {
   "cell_type": "code",
   "execution_count": 8,
   "metadata": {},
   "outputs": [],
   "source": [
    "# sum of two numbers - sinle line comment"
   ]
  },
  {
   "cell_type": "code",
   "execution_count": 9,
   "metadata": {},
   "outputs": [
    {
     "name": "stdout",
     "output_type": "stream",
     "text": [
      "13\n"
     ]
    }
   ],
   "source": [
    "print(13)"
   ]
  },
  {
   "cell_type": "code",
   "execution_count": null,
   "metadata": {},
   "outputs": [],
   "source": [
    "31+20"
   ]
  },
  {
   "cell_type": "code",
   "execution_count": 12,
   "metadata": {},
   "outputs": [
    {
     "data": {
      "text/plain": [
       "-8"
      ]
     },
     "execution_count": 12,
     "metadata": {},
     "output_type": "execute_result"
    }
   ],
   "source": [
    "12-20"
   ]
  },
  {
   "cell_type": "code",
   "execution_count": 13,
   "metadata": {},
   "outputs": [
    {
     "data": {
      "text/plain": [
       "2"
      ]
     },
     "execution_count": 13,
     "metadata": {},
     "output_type": "execute_result"
    }
   ],
   "source": [
    "12//5"
   ]
  },
  {
   "cell_type": "code",
   "execution_count": 14,
   "metadata": {},
   "outputs": [
    {
     "data": {
      "text/plain": [
       "2.4"
      ]
     },
     "execution_count": 14,
     "metadata": {},
     "output_type": "execute_result"
    }
   ],
   "source": [
    "12/5"
   ]
  },
  {
   "cell_type": "code",
   "execution_count": null,
   "metadata": {},
   "outputs": [
    {
     "name": "stdout",
     "output_type": "stream",
     "text": [
      "\n",
      "Welcome to Python 3.7's help utility!\n",
      "\n",
      "If this is your first time using Python, you should definitely check out\n",
      "the tutorial on the Internet at https://docs.python.org/3.7/tutorial/.\n",
      "\n",
      "Enter the name of any module, keyword, or topic to get help on writing\n",
      "Python programs and using Python modules.  To quit this help utility and\n",
      "return to the interpreter, just type \"quit\".\n",
      "\n",
      "To get a list of available modules, keywords, symbols, or topics, type\n",
      "\"modules\", \"keywords\", \"symbols\", or \"topics\".  Each module also comes\n",
      "with a one-line summary of what it does; to list the modules whose name\n",
      "or summary contain a given string such as \"spam\", type \"modules spam\".\n",
      "\n",
      "help> key words\n",
      "No Python documentation found for 'key words'.\n",
      "Use help() to get the interactive help utility.\n",
      "Use help(str) for help on the str class.\n",
      "\n",
      "help> keywords\n",
      "\n",
      "Here is a list of the Python keywords.  Enter any keyword to get more help.\n",
      "\n",
      "False               class               from                or\n",
      "None                continue            global              pass\n",
      "True                def                 if                  raise\n",
      "and                 del                 import              return\n",
      "as                  elif                in                  try\n",
      "assert              else                is                  while\n",
      "async               except              lambda              with\n",
      "await               finally             nonlocal            yield\n",
      "break               for                 not                 \n",
      "\n",
      "help> import\n",
      "The \"import\" statement\n",
      "**********************\n",
      "\n",
      "   import_stmt     ::= \"import\" module [\"as\" name] ( \",\" module [\"as\" name] )*\n",
      "                   | \"from\" relative_module \"import\" identifier [\"as\" name]\n",
      "                   ( \",\" identifier [\"as\" name] )*\n",
      "                   | \"from\" relative_module \"import\" \"(\" identifier [\"as\" name]\n",
      "                   ( \",\" identifier [\"as\" name] )* [\",\"] \")\"\n",
      "                   | \"from\" module \"import\" \"*\"\n",
      "   module          ::= (identifier \".\")* identifier\n",
      "   relative_module ::= \".\"* module | \".\"+\n",
      "   name            ::= identifier\n",
      "\n",
      "The basic import statement (no \"from\" clause) is executed in two\n",
      "steps:\n",
      "\n",
      "1. find a module, loading and initializing it if necessary\n",
      "\n",
      "2. define a name or names in the local namespace for the scope\n",
      "   where the \"import\" statement occurs.\n",
      "\n",
      "When the statement contains multiple clauses (separated by commas) the\n",
      "two steps are carried out separately for each clause, just as though\n",
      "the clauses had been separated out into individual import statements.\n",
      "\n",
      "The details of the first step, finding and loading modules are\n",
      "described in greater detail in the section on the import system, which\n",
      "also describes the various types of packages and modules that can be\n",
      "imported, as well as all the hooks that can be used to customize the\n",
      "import system. Note that failures in this step may indicate either\n",
      "that the module could not be located, *or* that an error occurred\n",
      "while initializing the module, which includes execution of the\n",
      "module’s code.\n",
      "\n",
      "If the requested module is retrieved successfully, it will be made\n",
      "available in the local namespace in one of three ways:\n",
      "\n",
      "* If the module name is followed by \"as\", then the name following\n",
      "  \"as\" is bound directly to the imported module.\n",
      "\n",
      "* If no other name is specified, and the module being imported is a\n",
      "  top level module, the module’s name is bound in the local namespace\n",
      "  as a reference to the imported module\n",
      "\n",
      "* If the module being imported is *not* a top level module, then the\n",
      "  name of the top level package that contains the module is bound in\n",
      "  the local namespace as a reference to the top level package. The\n",
      "  imported module must be accessed using its full qualified name\n",
      "  rather than directly\n",
      "\n",
      "The \"from\" form uses a slightly more complex process:\n",
      "\n",
      "1. find the module specified in the \"from\" clause, loading and\n",
      "   initializing it if necessary;\n",
      "\n",
      "2. for each of the identifiers specified in the \"import\" clauses:\n",
      "\n",
      "   1. check if the imported module has an attribute by that name\n",
      "\n",
      "   2. if not, attempt to import a submodule with that name and then\n",
      "      check the imported module again for that attribute\n",
      "\n",
      "   3. if the attribute is not found, \"ImportError\" is raised.\n",
      "\n",
      "   4. otherwise, a reference to that value is stored in the local\n",
      "      namespace, using the name in the \"as\" clause if it is present,\n",
      "      otherwise using the attribute name\n",
      "\n",
      "Examples:\n",
      "\n",
      "   import foo                 # foo imported and bound locally\n",
      "   import foo.bar.baz         # foo.bar.baz imported, foo bound locally\n",
      "   import foo.bar.baz as fbb  # foo.bar.baz imported and bound as fbb\n",
      "   from foo.bar import baz    # foo.bar.baz imported and bound as baz\n",
      "   from foo import attr       # foo imported and foo.attr bound as attr\n",
      "\n",
      "If the list of identifiers is replaced by a star (\"'*'\"), all public\n",
      "names defined in the module are bound in the local namespace for the\n",
      "scope where the \"import\" statement occurs.\n",
      "\n",
      "The *public names* defined by a module are determined by checking the\n",
      "module’s namespace for a variable named \"__all__\"; if defined, it must\n",
      "be a sequence of strings which are names defined or imported by that\n",
      "module.  The names given in \"__all__\" are all considered public and\n",
      "are required to exist.  If \"__all__\" is not defined, the set of public\n",
      "names includes all names found in the module’s namespace which do not\n",
      "begin with an underscore character (\"'_'\").  \"__all__\" should contain\n",
      "the entire public API. It is intended to avoid accidentally exporting\n",
      "items that are not part of the API (such as library modules which were\n",
      "imported and used within the module).\n",
      "\n",
      "The wild card form of import — \"from module import *\" — is only\n",
      "allowed at the module level.  Attempting to use it in class or\n",
      "function definitions will raise a \"SyntaxError\".\n",
      "\n",
      "When specifying what module to import you do not have to specify the\n",
      "absolute name of the module. When a module or package is contained\n",
      "within another package it is possible to make a relative import within\n",
      "the same top package without having to mention the package name. By\n",
      "using leading dots in the specified module or package after \"from\" you\n",
      "can specify how high to traverse up the current package hierarchy\n",
      "without specifying exact names. One leading dot means the current\n",
      "package where the module making the import exists. Two dots means up\n",
      "one package level. Three dots is up two levels, etc. So if you execute\n",
      "\"from . import mod\" from a module in the \"pkg\" package then you will\n",
      "end up importing \"pkg.mod\". If you execute \"from ..subpkg2 import mod\"\n",
      "from within \"pkg.subpkg1\" you will import \"pkg.subpkg2.mod\". The\n",
      "specification for relative imports is contained within **PEP 328**.\n",
      "\n",
      "\"importlib.import_module()\" is provided to support applications that\n",
      "determine dynamically the modules to be loaded.\n",
      "\n",
      "\n",
      "Future statements\n",
      "=================\n",
      "\n",
      "A *future statement* is a directive to the compiler that a particular\n",
      "module should be compiled using syntax or semantics that will be\n",
      "available in a specified future release of Python where the feature\n",
      "becomes standard.\n",
      "\n",
      "The future statement is intended to ease migration to future versions\n",
      "of Python that introduce incompatible changes to the language.  It\n",
      "allows use of the new features on a per-module basis before the\n",
      "release in which the feature becomes standard.\n",
      "\n",
      "   future_statement ::= \"from\" \"__future__\" \"import\" feature [\"as\" name]\n",
      "                        (\",\" feature [\"as\" name])*\n",
      "                        | \"from\" \"__future__\" \"import\" \"(\" feature [\"as\" name]\n",
      "                        (\",\" feature [\"as\" name])* [\",\"] \")\"\n",
      "   feature          ::= identifier\n",
      "   name             ::= identifier\n",
      "\n",
      "A future statement must appear near the top of the module.  The only\n",
      "lines that can appear before a future statement are:\n",
      "\n",
      "* the module docstring (if any),\n",
      "\n",
      "* comments,\n",
      "\n",
      "* blank lines, and\n",
      "\n",
      "* other future statements.\n",
      "\n",
      "The only feature in Python 3.7 that requires using the future\n",
      "statement is \"annotations\".\n",
      "\n",
      "All historical features enabled by the future statement are still\n",
      "recognized by Python 3.  The list includes \"absolute_import\",\n",
      "\"division\", \"generators\", \"generator_stop\", \"unicode_literals\",\n",
      "\"print_function\", \"nested_scopes\" and \"with_statement\".  They are all\n",
      "redundant because they are always enabled, and only kept for backwards\n",
      "compatibility.\n",
      "\n",
      "A future statement is recognized and treated specially at compile\n",
      "time: Changes to the semantics of core constructs are often\n",
      "implemented by generating different code.  It may even be the case\n",
      "that a new feature introduces new incompatible syntax (such as a new\n",
      "reserved word), in which case the compiler may need to parse the\n",
      "module differently.  Such decisions cannot be pushed off until\n",
      "runtime.\n",
      "\n",
      "For any given release, the compiler knows which feature names have\n",
      "been defined, and raises a compile-time error if a future statement\n",
      "contains a feature not known to it.\n",
      "\n",
      "The direct runtime semantics are the same as for any import statement:\n",
      "there is a standard module \"__future__\", described later, and it will\n",
      "be imported in the usual way at the time the future statement is\n",
      "executed.\n",
      "\n",
      "The interesting runtime semantics depend on the specific feature\n",
      "enabled by the future statement.\n",
      "\n",
      "Note that there is nothing special about the statement:\n",
      "\n",
      "   import __future__ [as name]\n",
      "\n",
      "That is not a future statement; it’s an ordinary import statement with\n",
      "no special semantics or syntax restrictions.\n",
      "\n",
      "Code compiled by calls to the built-in functions \"exec()\" and\n",
      "\"compile()\" that occur in a module \"M\" containing a future statement\n",
      "will, by default, use the new syntax or semantics associated with the\n",
      "future statement.  This can be controlled by optional arguments to\n",
      "\"compile()\" — see the documentation of that function for details.\n",
      "\n",
      "A future statement typed at an interactive interpreter prompt will\n",
      "take effect for the rest of the interpreter session.  If an\n",
      "interpreter is started with the \"-i\" option, is passed a script name\n",
      "to execute, and the script includes a future statement, it will be in\n",
      "effect in the interactive session started after the script is\n",
      "executed.\n",
      "\n",
      "See also:\n",
      "\n",
      "  **PEP 236** - Back to the __future__\n",
      "     The original proposal for the __future__ mechanism.\n",
      "\n",
      "Related help topics: MODULES\n",
      "\n"
     ]
    }
   ],
   "source": [
    "help()\n"
   ]
  },
  {
   "cell_type": "code",
   "execution_count": null,
   "metadata": {},
   "outputs": [],
   "source": [
    "2+3"
   ]
  },
  {
   "cell_type": "code",
   "execution_count": null,
   "metadata": {},
   "outputs": [],
   "source": [
    "3-1"
   ]
  },
  {
   "cell_type": "code",
   "execution_count": null,
   "metadata": {},
   "outputs": [],
   "source": []
  },
  {
   "cell_type": "code",
   "execution_count": 4,
   "metadata": {},
   "outputs": [
    {
     "data": {
      "text/plain": [
       "8"
      ]
     },
     "execution_count": 4,
     "metadata": {},
     "output_type": "execute_result"
    }
   ],
   "source": [
    "3+5"
   ]
  },
  {
   "cell_type": "code",
   "execution_count": 5,
   "metadata": {},
   "outputs": [],
   "source": [
    "a=5\n",
    "b=2\n",
    "c=a+b"
   ]
  },
  {
   "cell_type": "code",
   "execution_count": 9,
   "metadata": {},
   "outputs": [
    {
     "data": {
      "text/plain": [
       "False"
      ]
     },
     "execution_count": 9,
     "metadata": {},
     "output_type": "execute_result"
    }
   ],
   "source": [
    "10==20"
   ]
  },
  {
   "cell_type": "code",
   "execution_count": null,
   "metadata": {},
   "outputs": [],
   "source": []
  },
  {
   "cell_type": "code",
   "execution_count": 8,
   "metadata": {},
   "outputs": [
    {
     "name": "stdout",
     "output_type": "stream",
     "text": [
      "3\n",
      "1\n",
      "2\n",
      "2.0\n",
      "0\n",
      "3\n",
      "2\n"
     ]
    }
   ],
   "source": [
    "a=2\n",
    "b=1\n",
    "print(a+b)\n",
    "print(a-b)\n",
    "print(a*b)\n",
    "print(a/b)\n",
    "print(a%b)\n",
    "print(a^b )\n",
    "print(a//b)"
   ]
  },
  {
   "cell_type": "code",
   "execution_count": 11,
   "metadata": {},
   "outputs": [
    {
     "data": {
      "text/plain": [
       "True"
      ]
     },
     "execution_count": 11,
     "metadata": {},
     "output_type": "execute_result"
    }
   ],
   "source": [
    "10!=20\n",
    "\n"
   ]
  },
  {
   "cell_type": "markdown",
   "metadata": {},
   "source": [
    "LOGICAL:\n",
    ". and, or, not "
   ]
  },
  {
   "cell_type": "code",
   "execution_count": 12,
   "metadata": {},
   "outputs": [],
   "source": [
    "a=1\n",
    "b=0\n"
   ]
  },
  {
   "cell_type": "code",
   "execution_count": 13,
   "metadata": {},
   "outputs": [
    {
     "data": {
      "text/plain": [
       "0"
      ]
     },
     "execution_count": 13,
     "metadata": {},
     "output_type": "execute_result"
    }
   ],
   "source": [
    "a and b\n"
   ]
  },
  {
   "cell_type": "code",
   "execution_count": 14,
   "metadata": {},
   "outputs": [
    {
     "data": {
      "text/plain": [
       "1"
      ]
     },
     "execution_count": 14,
     "metadata": {},
     "output_type": "execute_result"
    }
   ],
   "source": [
    "a or b\n"
   ]
  },
  {
   "cell_type": "code",
   "execution_count": 18,
   "metadata": {},
   "outputs": [
    {
     "data": {
      "text/plain": [
       "True"
      ]
     },
     "execution_count": 18,
     "metadata": {},
     "output_type": "execute_result"
    }
   ],
   "source": [
    "a = True\n",
    "b = False\n",
    "a or b\n"
   ]
  },
  {
   "cell_type": "code",
   "execution_count": 19,
   "metadata": {},
   "outputs": [
    {
     "data": {
      "text/plain": [
       "False"
      ]
     },
     "execution_count": 19,
     "metadata": {},
     "output_type": "execute_result"
    }
   ],
   "source": [
    "a and b\n"
   ]
  },
  {
   "cell_type": "code",
   "execution_count": 21,
   "metadata": {},
   "outputs": [
    {
     "data": {
      "text/plain": [
       "True"
      ]
     },
     "execution_count": 21,
     "metadata": {},
     "output_type": "execute_result"
    }
   ],
   "source": [
    "a = True\n",
    "b = 0\n",
    "a or b"
   ]
  },
  {
   "cell_type": "code",
   "execution_count": 22,
   "metadata": {},
   "outputs": [
    {
     "data": {
      "text/plain": [
       "True"
      ]
     },
     "execution_count": 22,
     "metadata": {},
     "output_type": "execute_result"
    }
   ],
   "source": [
    "not b\n"
   ]
  },
  {
   "cell_type": "markdown",
   "metadata": {},
   "source": [
    "bit wise opreators"
   ]
  },
  {
   "cell_type": "markdown",
   "metadata": {},
   "source": [
    "BINARY VALUES\n"
   ]
  },
  {
   "cell_type": "code",
   "execution_count": 23,
   "metadata": {},
   "outputs": [
    {
     "data": {
      "text/plain": [
       "'0b10000'"
      ]
     },
     "execution_count": 23,
     "metadata": {},
     "output_type": "execute_result"
    }
   ],
   "source": [
    "bin(16)"
   ]
  },
  {
   "cell_type": "code",
   "execution_count": 24,
   "metadata": {},
   "outputs": [
    {
     "data": {
      "text/plain": [
       "0"
      ]
     },
     "execution_count": 24,
     "metadata": {},
     "output_type": "execute_result"
    }
   ],
   "source": [
    "a = 10\n",
    "b = 20\n",
    "a & b"
   ]
  },
  {
   "cell_type": "code",
   "execution_count": 25,
   "metadata": {},
   "outputs": [
    {
     "data": {
      "text/plain": [
       "5"
      ]
     },
     "execution_count": 25,
     "metadata": {},
     "output_type": "execute_result"
    }
   ],
   "source": [
    "a = 2\n",
    "b = 5\n",
    "a and b"
   ]
  },
  {
   "cell_type": "code",
   "execution_count": 26,
   "metadata": {},
   "outputs": [
    {
     "data": {
      "text/plain": [
       "5"
      ]
     },
     "execution_count": 26,
     "metadata": {},
     "output_type": "execute_result"
    }
   ],
   "source": [
    "a = 5\n",
    "b = 15 \n",
    "a or b\n",
    "\n"
   ]
  },
  {
   "cell_type": "code",
   "execution_count": 29,
   "metadata": {},
   "outputs": [
    {
     "data": {
      "text/plain": [
       "31"
      ]
     },
     "execution_count": 29,
     "metadata": {},
     "output_type": "execute_result"
    }
   ],
   "source": [
    "a = 20\n",
    "b = 15\n",
    "a | b\n"
   ]
  },
  {
   "cell_type": "code",
   "execution_count": 30,
   "metadata": {},
   "outputs": [
    {
     "data": {
      "text/plain": [
       "27"
      ]
     },
     "execution_count": 30,
     "metadata": {},
     "output_type": "execute_result"
    }
   ],
   "source": [
    "a^b"
   ]
  },
  {
   "cell_type": "code",
   "execution_count": 34,
   "metadata": {},
   "outputs": [
    {
     "data": {
      "text/plain": [
       "True"
      ]
     },
     "execution_count": 34,
     "metadata": {},
     "output_type": "execute_result"
    }
   ],
   "source": [
    "a = 2\n",
    "b = 2\n",
    "a is b\n"
   ]
  },
  {
   "cell_type": "code",
   "execution_count": 33,
   "metadata": {},
   "outputs": [
    {
     "data": {
      "text/plain": [
       "False"
      ]
     },
     "execution_count": 33,
     "metadata": {},
     "output_type": "execute_result"
    }
   ],
   "source": [
    "a is not b"
   ]
  },
  {
   "cell_type": "markdown",
   "metadata": {},
   "source": [
    "MEMBERSHIP OPERATORS"
   ]
  },
  {
   "cell_type": "code",
   "execution_count": 47,
   "metadata": {},
   "outputs": [
    {
     "name": "stdout",
     "output_type": "stream",
     "text": [
      "enter value:26\n"
     ]
    }
   ],
   "source": [
    "a = input('enter value:')"
   ]
  },
  {
   "cell_type": "code",
   "execution_count": 45,
   "metadata": {},
   "outputs": [
    {
     "name": "stdout",
     "output_type": "stream",
     "text": [
      "enter value:20\n"
     ]
    }
   ],
   "source": [
    "a = int(input('enter value:'))\n",
    "        \\"
   ]
  },
  {
   "cell_type": "code",
   "execution_count": 49,
   "metadata": {},
   "outputs": [
    {
     "data": {
      "text/plain": [
       "11"
      ]
     },
     "execution_count": 49,
     "metadata": {},
     "output_type": "execute_result"
    }
   ],
   "source": [
    "a = 11.5\n",
    "int(a)"
   ]
  },
  {
   "cell_type": "code",
   "execution_count": 48,
   "metadata": {},
   "outputs": [],
   "source": [
    "a = 1;b = 3"
   ]
  },
  {
   "cell_type": "code",
   "execution_count": 52,
   "metadata": {},
   "outputs": [
    {
     "name": "stdout",
     "output_type": "stream",
     "text": [
      "enter a value:56\n",
      "enter a value:32\n"
     ]
    }
   ],
   "source": [
    "a = float(input('enter a value:'));b = int(input('enter a value:'))"
   ]
  },
  {
   "cell_type": "code",
   "execution_count": 53,
   "metadata": {},
   "outputs": [
    {
     "name": "stdout",
     "output_type": "stream",
     "text": [
      "addition of %d,%d is %d(a,b,a+b)\n"
     ]
    }
   ],
   "source": [
    "print('addition of %d,%d is %d(a,b,a+b)')"
   ]
  },
  {
   "cell_type": "code",
   "execution_count": 55,
   "metadata": {},
   "outputs": [
    {
     "name": "stdout",
     "output_type": "stream",
     "text": [
      "addition of  10 , 20 is; 30\n"
     ]
    }
   ],
   "source": [
    "a = 10\n",
    "b = 20\n",
    "print('addition of ',a,',',b,'is;',a+b)"
   ]
  },
  {
   "cell_type": "code",
   "execution_count": 57,
   "metadata": {},
   "outputs": [
    {
     "name": "stdout",
     "output_type": "stream",
     "text": [
      "105\n"
     ]
    }
   ],
   "source": [
    "a = '80'\n",
    "b =  '25'\n",
    "a = int(a)\n",
    "b = int(b)\n",
    "print(a+b)"
   ]
  },
  {
   "cell_type": "raw",
   "metadata": {},
   "source": [
    "CONDITIONAL EXECUTION"
   ]
  },
  {
   "cell_type": "code",
   "execution_count": 58,
   "metadata": {},
   "outputs": [
    {
     "data": {
      "text/plain": [
       "'apssdc rvrjc'"
      ]
     },
     "execution_count": 58,
     "metadata": {},
     "output_type": "execute_result"
    }
   ],
   "source": [
    "str1 = 'apssdc '\n",
    "str2 = 'rvrjc'\n",
    "str1 + str2\n"
   ]
  },
  {
   "cell_type": "code",
   "execution_count": 63,
   "metadata": {},
   "outputs": [
    {
     "name": "stdout",
     "output_type": "stream",
     "text": [
      "enter a number:9\n",
      "odd number 9\n",
      "9\n"
     ]
    }
   ],
   "source": [
    "n =  int(input('enter a number:'))\n",
    "if n%2==0:\n",
    "    print('even number:',n)\n",
    "    print(n)\n",
    "else:\n",
    "        print('odd number',n)\n",
    "        print(n)\n"
   ]
  },
  {
   "cell_type": "code",
   "execution_count": 64,
   "metadata": {},
   "outputs": [
    {
     "name": "stdout",
     "output_type": "stream",
     "text": [
      "enter a number:12\n",
      "enter a number:23\n",
      "num2 is bigger number\n"
     ]
    }
   ],
   "source": [
    "num1 = int(input('enter a number:'))\n",
    "num2 = int(input('enter a number:'))\n",
    "if num1>num2:\n",
    "    print('num1 is bigger number')\n",
    "else:\n",
    "    print('num2 is bigger number')"
   ]
  },
  {
   "cell_type": "code",
   "execution_count": 70,
   "metadata": {},
   "outputs": [
    {
     "name": "stdout",
     "output_type": "stream",
     "text": [
      "enter a number:1\n",
      "enter a number:2\n",
      "enter a number:3\n",
      "num3 is bigger number\n"
     ]
    }
   ],
   "source": [
    "num1 = int(input('enter a number:'))\n",
    "num2 = int(input('enter a number:'))\n",
    "num3 = int(input('enter a number:'))\n",
    "if num1>num2:\n",
    "    print('num1 is bigger number')\n",
    "\n",
    "elif num2>num3:\n",
    "      print('num2 is bigger number')\n",
    "else:\n",
    "     print('num3 is bigger number')"
   ]
  },
  {
   "cell_type": "code",
   "execution_count": 90,
   "metadata": {},
   "outputs": [
    {
     "name": "stdout",
     "output_type": "stream",
     "text": [
      "A is big\n"
     ]
    }
   ],
   "source": [
    "A=70\n",
    "B=60\n",
    "C=30\n",
    "if A>B and A>C:\n",
    "    print('A is big')\n",
    "elif B>C:\n",
    "    print('B is big')\n",
    "else: \n",
    "    print('C is big')\n"
   ]
  },
  {
   "cell_type": "code",
   "execution_count": 88,
   "metadata": {},
   "outputs": [
    {
     "name": "stdout",
     "output_type": "stream",
     "text": [
      "enter a number:32\n",
      "grade is FAIL\n"
     ]
    }
   ],
   "source": [
    "a = int(input('enter a number:'))\n",
    "if a>=90 and a<=100:\n",
    "    print('grade is A')\n",
    "elif a>=70 and a<=89:\n",
    "    print('grade is B')\n",
    "elif a>=45 and a<=69:\n",
    "    print('grade is C')\n",
    "elif a>=0 and a<=44:\n",
    "    print('grade is FAIL')\n",
    "else:\n",
    "    print('invalid marks')"
   ]
  },
  {
   "cell_type": "markdown",
   "metadata": {},
   "source": [
    "ITERATIONS \n",
    "#for var in range(start,end,diff)\n"
   ]
  },
  {
   "cell_type": "code",
   "execution_count": 1,
   "metadata": {},
   "outputs": [
    {
     "data": {
      "text/plain": [
       "False"
      ]
     },
     "execution_count": 1,
     "metadata": {},
     "output_type": "execute_result"
    }
   ],
   "source": [
    "s = 'hello'\n",
    "'h' not in s"
   ]
  },
  {
   "cell_type": "code",
   "execution_count": 6,
   "metadata": {},
   "outputs": [
    {
     "name": "stdout",
     "output_type": "stream",
     "text": [
      "enter a name:Hello world\n",
      "Hello world\n",
      "Hello world\n",
      "Hello world\n",
      "Hello world\n",
      "Hello world\n",
      "Hello world\n",
      "Hello world\n",
      "Hello world\n",
      "Hello world\n",
      "Hello world\n"
     ]
    }
   ],
   "source": [
    "a = input('enter a name: /n')\n",
    "for i in range(1,11):\n",
    "     print(a)"
   ]
  },
  {
   "cell_type": "code",
   "execution_count": 7,
   "metadata": {},
   "outputs": [
    {
     "name": "stdout",
     "output_type": "stream",
     "text": [
      "enter a name: /n1\n",
      "1 2 3 4 5 6 7 8 9 10 11 12 13 14 15 16 17 18 19 20 21 22 23 24 25 26 27 28 29 30 31 32 33 34 35 36 37 38 39 40 41 42 43 44 45 46 47 48 49 50 51 52 53 54 55 56 57 58 59 60 61 62 63 64 65 66 67 68 69 70 71 72 73 74 75 76 77 78 79 80 81 82 83 84 85 86 87 88 89 90 91 92 93 94 95 96 97 98 99 100 "
     ]
    }
   ],
   "source": [
    "a = input('enter a name: /n')\n",
    "for i in range(1,100+1):\n",
    "     print(i,end =' ')"
   ]
  },
  {
   "cell_type": "code",
   "execution_count": 9,
   "metadata": {},
   "outputs": [
    {
     "name": "stdout",
     "output_type": "stream",
     "text": [
      "enter a name: /n2\n",
      "2 4 6 8 10 12 14 16 18 20 22 24 26 28 30 32 34 36 38 40 42 44 46 48 50 52 54 56 58 60 62 64 66 68 70 72 74 76 78 80 82 84 86 88 90 92 94 96 98 100 "
     ]
    }
   ],
   "source": [
    "a = input('enter a name: /n')\n",
    "for i in range(2,100+1,2):\n",
    "     print(i,end =' ')"
   ]
  },
  {
   "cell_type": "code",
   "execution_count": 16,
   "metadata": {},
   "outputs": [
    {
     "name": "stdout",
     "output_type": "stream",
     "text": [
      "1 3 5 7 9 11 13 15 17 19 21 23 25 27 29 31 33 35 37 39 41 43 45 47 49 51 53 55 57 59 61 63 65 67 69 71 73 75 77 79 81 83 85 87 89 91 93 95 97 99 "
     ]
    }
   ],
   "source": [
    "for i in range(0,101):\n",
    "    if i%2!=0:\n",
    "        print(i,end =' ')"
   ]
  },
  {
   "cell_type": "code",
   "execution_count": 21,
   "metadata": {},
   "outputs": [
    {
     "name": "stdout",
     "output_type": "stream",
     "text": [
      "enter a name: 35\n",
      "odd 35\n"
     ]
    }
   ],
   "source": [
    "a = int(input('enter a name: '))\n",
    "if a%2==0:\n",
    "        print('even',a)\n",
    "else:\n",
    "        print('odd',a)"
   ]
  },
  {
   "cell_type": "code",
   "execution_count": 23,
   "metadata": {},
   "outputs": [
    {
     "name": "stdout",
     "output_type": "stream",
     "text": [
      "enter the table number: 2\n",
      "enter the table number: 10\n",
      "2*1=2\n",
      "2*2=4\n",
      "2*3=6\n",
      "2*4=8\n",
      "2*5=10\n",
      "2*6=12\n",
      "2*7=14\n",
      "2*8=16\n",
      "2*9=18\n",
      "2*10=20\n"
     ]
    }
   ],
   "source": [
    "t = int(input('enter the table number: '))\n",
    "t_len = int(input('enter the table number: '))\n",
    "for i in range(1,t_len+1):\n",
    "    print('{}*{}={}'.format(t,i,t*i))"
   ]
  },
  {
   "cell_type": "code",
   "execution_count": 27,
   "metadata": {},
   "outputs": [
    {
     "name": "stdout",
     "output_type": "stream",
     "text": [
      "enter a number: 10\n",
      "1\n",
      "2\n",
      "5\n",
      "10\n"
     ]
    }
   ],
   "source": [
    "n = int(input('enter a number: '))\n",
    "for i in range(1,n+1):\n",
    "    if n%i==0:\n",
    "        print(i)"
   ]
  },
  {
   "cell_type": "code",
   "execution_count": 30,
   "metadata": {},
   "outputs": [
    {
     "name": "stdout",
     "output_type": "stream",
     "text": [
      "enter a number: 25\n",
      "1\n",
      "5\n",
      "25\n",
      "count is :  3\n"
     ]
    }
   ],
   "source": [
    "n = int(input('enter a number: '))\n",
    "cnt = 0\n",
    "for i in range(1,n+1):\n",
    "    if n%i==0:\n",
    "        cnt+=1\n",
    "        print(i)\n",
    "print('count is : ',cnt)"
   ]
  },
  {
   "cell_type": "code",
   "execution_count": 42,
   "metadata": {},
   "outputs": [
    {
     "name": "stdout",
     "output_type": "stream",
     "text": [
      "enter a number: 5\n",
      "it is prime number\n"
     ]
    }
   ],
   "source": [
    "n = int(input('enter a number: '))\n",
    "cnt = 0\n",
    "for i in range(1,n+1):\n",
    "    if n%i==0:\n",
    "        cnt+=1\n",
    "if cnt==2:\n",
    "      print( 'it is prime number')\n",
    "            \n",
    "else:       \n",
    "    print('number is non prime: ')"
   ]
  },
  {
   "cell_type": "markdown",
   "metadata": {},
   "source": [
    "# while condition\n",
    "    # statements"
   ]
  },
  {
   "cell_type": "code",
   "execution_count": 43,
   "metadata": {},
   "outputs": [
    {
     "name": "stdout",
     "output_type": "stream",
     "text": [
      "1\n",
      "2\n",
      "3\n",
      "4\n",
      "5\n",
      "6\n",
      "7\n",
      "8\n",
      "9\n",
      "10\n"
     ]
    }
   ],
   "source": [
    "i = 1\n",
    "while i<11:\n",
    "    print(i)\n",
    "    i+=1"
   ]
  },
  {
   "cell_type": "code",
   "execution_count": null,
   "metadata": {},
   "outputs": [],
   "source": []
  }
 ],
 "metadata": {
  "kernelspec": {
   "display_name": "Python 3",
   "language": "python",
   "name": "python3"
  },
  "language_info": {
   "codemirror_mode": {
    "name": "ipython",
    "version": 3
   },
   "file_extension": ".py",
   "mimetype": "text/x-python",
   "name": "python",
   "nbconvert_exporter": "python",
   "pygments_lexer": "ipython3",
   "version": "3.7.4"
  }
 },
 "nbformat": 4,
 "nbformat_minor": 2
}
