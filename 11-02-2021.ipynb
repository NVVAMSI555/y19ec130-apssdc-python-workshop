{
 "cells": [
  {
   "cell_type": "code",
   "execution_count": 5,
   "metadata": {},
   "outputs": [
    {
     "name": "stdout",
     "output_type": "stream",
     "text": [
      "abc_123@gmail.com\n",
      "ramu.madhgava@gmail.com\n",
      "abc123@gmail.com\n"
     ]
    }
   ],
   "source": [
    "import re\n",
    "pattern ='^[A-Za-z0-9].{4,15}(@gmail\\.com)$'\n",
    "emails = ['abc_123@gmail.com','ramu.madhgava@gmail.com','abc@gmail.com','abc123@gmail.com']\n",
    "for email in emails:\n",
    "    if re.match(pattern,email):\n",
    "        print(email)"
   ]
  },
  {
   "cell_type": "code",
   "execution_count": null,
   "metadata": {},
   "outputs": [],
   "source": []
  }
 ],
 "metadata": {
  "kernelspec": {
   "display_name": "Python 3",
   "language": "python",
   "name": "python3"
  },
  "language_info": {
   "codemirror_mode": {
    "name": "ipython",
    "version": 3
   },
   "file_extension": ".py",
   "mimetype": "text/x-python",
   "name": "python",
   "nbconvert_exporter": "python",
   "pygments_lexer": "ipython3",
   "version": "3.7.4"
  }
 },
 "nbformat": 4,
 "nbformat_minor": 2
}
